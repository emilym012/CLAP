{
 "cells": [
  {
   "cell_type": "code",
   "execution_count": null,
   "metadata": {},
   "outputs": [],
   "source": [
    "import ee,os,glob,geemap\n",
    "import pandas as pd, numpy as np\n",
    "\n",
    "# authenticate to the Earth Engine API\n",
    "ee.Authenticate()\n",
    "ee.Initialize()"
   ]
  }
 ],
 "metadata": {
  "language_info": {
   "name": "python"
  }
 },
 "nbformat": 4,
 "nbformat_minor": 2
}
