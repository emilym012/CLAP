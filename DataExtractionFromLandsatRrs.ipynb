{
 "cells": [
  {
   "cell_type": "code",
   "execution_count": 1,
   "metadata": {},
   "outputs": [
    {
     "data": {
      "text/html": [
       "<p>To authorize access needed by Earth Engine, open the following\n",
       "        URL in a web browser and follow the instructions:</p>\n",
       "        <p><a href=https://code.earthengine.google.com/client-auth?scopes=https%3A//www.googleapis.com/auth/earthengine%20https%3A//www.googleapis.com/auth/cloud-platform%20https%3A//www.googleapis.com/auth/devstorage.full_control&request_id=LvR0-yD8AcCKGuqwKozTlNVmItHzxYcGPTb0_GkJVxo&tc=4d5QR8OBtvgCbSItIxkFzodDZcJ9_vZM-df5lYZFKCM&cc=YwoiSFv-pYVJLlxqPNq9OSfKwzXw_aXLykaY3K3khgQ>https://code.earthengine.google.com/client-auth?scopes=https%3A//www.googleapis.com/auth/earthengine%20https%3A//www.googleapis.com/auth/cloud-platform%20https%3A//www.googleapis.com/auth/devstorage.full_control&request_id=LvR0-yD8AcCKGuqwKozTlNVmItHzxYcGPTb0_GkJVxo&tc=4d5QR8OBtvgCbSItIxkFzodDZcJ9_vZM-df5lYZFKCM&cc=YwoiSFv-pYVJLlxqPNq9OSfKwzXw_aXLykaY3K3khgQ</a></p>\n",
       "        <p>The authorization workflow will generate a code, which you should paste in the box below.</p>\n",
       "        "
      ],
      "text/plain": [
       "<IPython.core.display.HTML object>"
      ]
     },
     "metadata": {},
     "output_type": "display_data"
    },
    {
     "name": "stdout",
     "output_type": "stream",
     "text": [
      "\n",
      "Successfully saved authorization token.\n"
     ]
    }
   ],
   "source": [
    "import ee,os,glob,geemap\n",
    "import pandas as pd, numpy as np\n",
    "\n",
    "# authenticate to the Earth Engine API\n",
    "ee.Authenticate()\n",
    "ee.Initialize()"
   ]
  },
  {
   "cell_type": "code",
   "execution_count": 26,
   "metadata": {},
   "outputs": [
    {
     "data": {
      "text/html": [
       "\n",
       "            <style>\n",
       "                .geemap-dark {\n",
       "                    --jp-widgets-color: white;\n",
       "                    --jp-widgets-label-color: white;\n",
       "                    --jp-ui-font-color1: white;\n",
       "                    --jp-layout-color2: #454545;\n",
       "                    background-color: #383838;\n",
       "                }\n",
       "\n",
       "                .geemap-dark .jupyter-button {\n",
       "                    --jp-layout-color3: #383838;\n",
       "                }\n",
       "\n",
       "                .geemap-colab {\n",
       "                    background-color: var(--colab-primary-surface-color, white);\n",
       "                }\n",
       "\n",
       "                .geemap-colab .jupyter-button {\n",
       "                    --jp-layout-color3: var(--colab-primary-surface-color, white);\n",
       "                }\n",
       "            </style>\n",
       "            "
      ],
      "text/plain": [
       "<IPython.core.display.HTML object>"
      ]
     },
     "metadata": {},
     "output_type": "display_data"
    },
    {
     "data": {
      "text/html": [
       "<div>\n",
       "<style scoped>\n",
       "    .dataframe tbody tr th:only-of-type {\n",
       "        vertical-align: middle;\n",
       "    }\n",
       "\n",
       "    .dataframe tbody tr th {\n",
       "        vertical-align: top;\n",
       "    }\n",
       "\n",
       "    .dataframe thead th {\n",
       "        text-align: right;\n",
       "    }\n",
       "</style>\n",
       "<table border=\"1\" class=\"dataframe\">\n",
       "  <thead>\n",
       "    <tr style=\"text-align: right;\">\n",
       "      <th></th>\n",
       "      <th>No</th>\n",
       "      <th>latitude</th>\n",
       "      <th>longitude</th>\n",
       "    </tr>\n",
       "  </thead>\n",
       "  <tbody>\n",
       "    <tr>\n",
       "      <th>0</th>\n",
       "      <td>1</td>\n",
       "      <td>37.864444</td>\n",
       "      <td>-76.762222</td>\n",
       "    </tr>\n",
       "    <tr>\n",
       "      <th>1</th>\n",
       "      <td>2</td>\n",
       "      <td>37.504444</td>\n",
       "      <td>-76.787500</td>\n",
       "    </tr>\n",
       "    <tr>\n",
       "      <th>2</th>\n",
       "      <td>3</td>\n",
       "      <td>37.221389</td>\n",
       "      <td>-76.893611</td>\n",
       "    </tr>\n",
       "  </tbody>\n",
       "</table>\n",
       "</div>"
      ],
      "text/plain": [
       "   No   latitude  longitude\n",
       "0   1  37.864444 -76.762222\n",
       "1   2  37.504444 -76.787500\n",
       "2   3  37.221389 -76.893611"
      ]
     },
     "execution_count": 26,
     "metadata": {},
     "output_type": "execute_result"
    }
   ],
   "source": [
    "path=r\"C:\\Users\\hafez\\MSU\\Research\\git\\pace\\CLAP\"\n",
    "os.chdir(path)\n",
    "river=pd.read_csv('locationLandsat.csv',sep='\\t')\n",
    "river"
   ]
  },
  {
   "cell_type": "code",
   "execution_count": 34,
   "metadata": {},
   "outputs": [
    {
     "data": {
      "text/html": [
       "\n",
       "            <style>\n",
       "                .geemap-dark {\n",
       "                    --jp-widgets-color: white;\n",
       "                    --jp-widgets-label-color: white;\n",
       "                    --jp-ui-font-color1: white;\n",
       "                    --jp-layout-color2: #454545;\n",
       "                    background-color: #383838;\n",
       "                }\n",
       "\n",
       "                .geemap-dark .jupyter-button {\n",
       "                    --jp-layout-color3: #383838;\n",
       "                }\n",
       "\n",
       "                .geemap-colab {\n",
       "                    background-color: var(--colab-primary-surface-color, white);\n",
       "                }\n",
       "\n",
       "                .geemap-colab .jupyter-button {\n",
       "                    --jp-layout-color3: var(--colab-primary-surface-color, white);\n",
       "                }\n",
       "            </style>\n",
       "            "
      ],
      "text/plain": [
       "<IPython.core.display.HTML object>"
      ]
     },
     "metadata": {},
     "output_type": "display_data"
    },
    {
     "name": "stdout",
     "output_type": "stream",
     "text": [
      "Generating URL ...\n",
      "Downloading data from https://earthengine.googleapis.com/v1/projects/earthengine-legacy/tables/c8e20c44d47dd374cb00202381e65e59-a696349ae0d8703543a6a182620bde89:getFeatures\n",
      "Please wait ...\n",
      "Data downloaded to C:\\Users\\hafez\\MSU\\Research\\git\\pace\\CLAP\\landsat.csv\n"
     ]
    }
   ],
   "source": [
    "path=r\"C:\\Users\\hafez\\MSU\\Research\\git\\pace\\CLAP\"\n",
    "os.chdir(path)\n",
    "river=pd.read_csv('locationLandsat.csv',sep='\\t')\n",
    "\n",
    "# Define a region of interest (ROI)\n",
    "longitude = river['longitude'][0]\n",
    "latitude = river['latitude'][0]\n",
    "# Define a point of interest (POI) using the coordinates from the river dictionary\n",
    "riverd = {'longitude': longitude, 'latitude': latitude}  # Replace with actual longitude and latitude values\n",
    "roi = ee.Geometry.Point([riverd['longitude'], riverd['latitude']])\n",
    "# Define cloud cover threshold\n",
    "cloudCoverThreshold = 20\n",
    "\n",
    "# Define the date range\n",
    "startDate = '2024-05-22'\n",
    "endDate = '2025-05-23'\n",
    "\n",
    "# Function to apply scaling factors\n",
    "def apply_scale_factors(image):\n",
    "    optical_bands = image.select('SR_B.').multiply(0.0000275).add(-0.2)\n",
    "    thermal_bands = image.select('ST_B.*').multiply(0.00341802).add(149.0)\n",
    "    return image.addBands(optical_bands, None, True).addBands(thermal_bands, None, True)\n",
    "\n",
    "# Filter the Landsat 8 collection\n",
    "landsat8 = ee.ImageCollection('LANDSAT/LC08/C02/T1_L2') \\\n",
    "    .filterBounds(roi) \\\n",
    "    .filterDate(startDate, endDate) \\\n",
    "    .filter(ee.Filter.lte('CLOUD_COVER', cloudCoverThreshold)) \\\n",
    "    .map(apply_scale_factors)\n",
    "\n",
    "# Filter the Landsat 9 collection\n",
    "landsat9 = ee.ImageCollection('LANDSAT/LC09/C02/T1_L2') \\\n",
    "    .filterBounds(roi) \\\n",
    "    .filterDate(startDate, endDate) \\\n",
    "    .filter(ee.Filter.lte('CLOUD_COVER', cloudCoverThreshold)) \\\n",
    "    .map(apply_scale_factors)\n",
    "\n",
    "# Merge the Landsat 8 and Landsat 9 collections\n",
    "merged_collection = landsat8.merge(landsat9).mean()\n",
    "\n",
    "# to ee\n",
    "points= geemap.df_to_ee(river)\n",
    "bands = ['SR_B1','SR_B2','SR_B3', 'SR_B4', 'SR_B5', 'SR_B6', 'SR_B7', 'ST_B10']\n",
    "out_csv = r'C:/Users/hafez/MSU/Research/git/pace/CLAP/landsat.csv'\n",
    "# extract point \n",
    "geemap.extract_values_to_points(points, merged_collection.select(bands), out_csv, scale=10)\n"
   ]
  },
  {
   "cell_type": "code",
   "execution_count": 36,
   "metadata": {},
   "outputs": [
    {
     "data": {
      "text/html": [
       "\n",
       "            <style>\n",
       "                .geemap-dark {\n",
       "                    --jp-widgets-color: white;\n",
       "                    --jp-widgets-label-color: white;\n",
       "                    --jp-ui-font-color1: white;\n",
       "                    --jp-layout-color2: #454545;\n",
       "                    background-color: #383838;\n",
       "                }\n",
       "\n",
       "                .geemap-dark .jupyter-button {\n",
       "                    --jp-layout-color3: #383838;\n",
       "                }\n",
       "\n",
       "                .geemap-colab {\n",
       "                    background-color: var(--colab-primary-surface-color, white);\n",
       "                }\n",
       "\n",
       "                .geemap-colab .jupyter-button {\n",
       "                    --jp-layout-color3: var(--colab-primary-surface-color, white);\n",
       "                }\n",
       "            </style>\n",
       "            "
      ],
      "text/plain": [
       "<IPython.core.display.HTML object>"
      ]
     },
     "metadata": {},
     "output_type": "display_data"
    }
   ],
   "source": [
    "\n",
    "out_csv = r'C:/Users/hafez/MSU/Research/git/pace/CLAP/landsat.csv'\n",
    "# convert to Rrs\n",
    "df = pd.read_csv(out_csv)\n",
    "# divide by pi to B1 to B7 _new column Rrs1 to Rrs7\n",
    "for i in range(1,8):\n",
    "    df['Rrs'+str(i)] = df['SR_B'+str(i)]/np.pi\n",
    "# save to csv\n",
    "df.to_csv(out_csv, index=False)"
   ]
  }
 ],
 "metadata": {
  "kernelspec": {
   "display_name": "base",
   "language": "python",
   "name": "python3"
  },
  "language_info": {
   "codemirror_mode": {
    "name": "ipython",
    "version": 3
   },
   "file_extension": ".py",
   "mimetype": "text/x-python",
   "name": "python",
   "nbconvert_exporter": "python",
   "pygments_lexer": "ipython3",
   "version": "3.11.5"
  }
 },
 "nbformat": 4,
 "nbformat_minor": 2
}
